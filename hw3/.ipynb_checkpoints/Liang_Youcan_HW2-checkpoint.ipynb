{
 "cells": [
  {
   "cell_type": "code",
   "execution_count": 1,
   "metadata": {
    "colab": {
     "base_uri": "https://localhost:8080/"
    },
    "id": "IWlUZmj7dRQH",
    "outputId": "d85fcab1-4f82-486f-c66c-24fd45ce3cea"
   },
   "outputs": [
    {
     "name": "stdout",
     "output_type": "stream",
     "text": [
      "Looking in indexes: https://pypi.org/simple, https://us-python.pkg.dev/colab-wheels/public/simple/\n",
      "Collecting cenpy\n",
      "  Downloading cenpy-1.0.1.tar.gz (30 kB)\n",
      "  Preparing metadata (setup.py) ... \u001b[?25l\u001b[?25hdone\n",
      "Requirement already satisfied: pandas in /usr/local/lib/python3.8/dist-packages (from cenpy) (1.3.5)\n",
      "Collecting geopandas\n",
      "  Downloading geopandas-0.12.2-py3-none-any.whl (1.1 MB)\n",
      "\u001b[2K     \u001b[90m━━━━━━━━━━━━━━━━━━━━━━━━━━━━━━━━━━━━━━━━\u001b[0m \u001b[32m1.1/1.1 MB\u001b[0m \u001b[31m9.3 MB/s\u001b[0m eta \u001b[36m0:00:00\u001b[0m\n",
      "\u001b[?25hRequirement already satisfied: requests in /usr/local/lib/python3.8/dist-packages (from cenpy) (2.25.1)\n",
      "Collecting rtree\n",
      "  Downloading Rtree-1.0.1-cp38-cp38-manylinux_2_17_x86_64.manylinux2014_x86_64.whl (1.0 MB)\n",
      "\u001b[2K     \u001b[90m━━━━━━━━━━━━━━━━━━━━━━━━━━━━━━━━━━━━━━━━\u001b[0m \u001b[32m1.0/1.0 MB\u001b[0m \u001b[31m30.6 MB/s\u001b[0m eta \u001b[36m0:00:00\u001b[0m\n",
      "\u001b[?25hRequirement already satisfied: numpy in /usr/local/lib/python3.8/dist-packages (from cenpy) (1.22.4)\n",
      "Requirement already satisfied: six in /usr/local/lib/python3.8/dist-packages (from cenpy) (1.15.0)\n",
      "Collecting fuzzywuzzy\n",
      "  Downloading fuzzywuzzy-0.18.0-py2.py3-none-any.whl (18 kB)\n",
      "Collecting libpysal\n",
      "  Downloading libpysal-4.7.0-py3-none-any.whl (2.4 MB)\n",
      "\u001b[2K     \u001b[90m━━━━━━━━━━━━━━━━━━━━━━━━━━━━━━━━━━━━━━━━\u001b[0m \u001b[32m2.4/2.4 MB\u001b[0m \u001b[31m15.9 MB/s\u001b[0m eta \u001b[36m0:00:00\u001b[0m\n",
      "\u001b[?25hRequirement already satisfied: packaging in /usr/local/lib/python3.8/dist-packages (from geopandas->cenpy) (23.0)\n",
      "Collecting fiona>=1.8\n",
      "  Downloading Fiona-1.9.1-cp38-cp38-manylinux_2_17_x86_64.manylinux2014_x86_64.whl (16.0 MB)\n",
      "\u001b[2K     \u001b[90m━━━━━━━━━━━━━━━━━━━━━━━━━━━━━━━━━━━━━━━━\u001b[0m \u001b[32m16.0/16.0 MB\u001b[0m \u001b[31m11.5 MB/s\u001b[0m eta \u001b[36m0:00:00\u001b[0m\n",
      "\u001b[?25hRequirement already satisfied: shapely>=1.7 in /usr/local/lib/python3.8/dist-packages (from geopandas->cenpy) (2.0.1)\n",
      "Collecting pyproj>=2.6.1.post1\n",
      "  Downloading pyproj-3.4.1-cp38-cp38-manylinux_2_17_x86_64.manylinux2014_x86_64.whl (7.8 MB)\n",
      "\u001b[2K     \u001b[90m━━━━━━━━━━━━━━━━━━━━━━━━━━━━━━━━━━━━━━━━\u001b[0m \u001b[32m7.8/7.8 MB\u001b[0m \u001b[31m30.5 MB/s\u001b[0m eta \u001b[36m0:00:00\u001b[0m\n",
      "\u001b[?25hRequirement already satisfied: python-dateutil>=2.7.3 in /usr/local/lib/python3.8/dist-packages (from pandas->cenpy) (2.8.2)\n",
      "Requirement already satisfied: pytz>=2017.3 in /usr/local/lib/python3.8/dist-packages (from pandas->cenpy) (2022.7.1)\n",
      "Requirement already satisfied: scipy>=0.11 in /usr/local/lib/python3.8/dist-packages (from libpysal->cenpy) (1.7.3)\n",
      "Requirement already satisfied: beautifulsoup4 in /usr/local/lib/python3.8/dist-packages (from libpysal->cenpy) (4.6.3)\n",
      "Requirement already satisfied: platformdirs in /usr/local/lib/python3.8/dist-packages (from libpysal->cenpy) (3.0.0)\n",
      "Requirement already satisfied: jinja2 in /usr/local/lib/python3.8/dist-packages (from libpysal->cenpy) (2.11.3)\n",
      "Requirement already satisfied: urllib3<1.27,>=1.21.1 in /usr/local/lib/python3.8/dist-packages (from requests->cenpy) (1.24.3)\n",
      "Requirement already satisfied: idna<3,>=2.5 in /usr/local/lib/python3.8/dist-packages (from requests->cenpy) (2.10)\n",
      "Requirement already satisfied: chardet<5,>=3.0.2 in /usr/local/lib/python3.8/dist-packages (from requests->cenpy) (4.0.0)\n",
      "Requirement already satisfied: certifi>=2017.4.17 in /usr/local/lib/python3.8/dist-packages (from requests->cenpy) (2022.12.7)\n",
      "Collecting cligj>=0.5\n",
      "  Downloading cligj-0.7.2-py3-none-any.whl (7.1 kB)\n",
      "Collecting munch>=2.3.2\n",
      "  Downloading munch-2.5.1.dev12-py2.py3-none-any.whl (10 kB)\n",
      "Requirement already satisfied: setuptools in /usr/local/lib/python3.8/dist-packages (from fiona>=1.8->geopandas->cenpy) (57.4.0)\n",
      "Requirement already satisfied: attrs>=19.2.0 in /usr/local/lib/python3.8/dist-packages (from fiona>=1.8->geopandas->cenpy) (22.2.0)\n",
      "Collecting click~=8.0\n",
      "  Downloading click-8.1.3-py3-none-any.whl (96 kB)\n",
      "\u001b[2K     \u001b[90m━━━━━━━━━━━━━━━━━━━━━━━━━━━━━━━━━━━━━━━━\u001b[0m \u001b[32m96.6/96.6 KB\u001b[0m \u001b[31m5.3 MB/s\u001b[0m eta \u001b[36m0:00:00\u001b[0m\n",
      "\u001b[?25hCollecting click-plugins>=1.0\n",
      "  Downloading click_plugins-1.1.1-py2.py3-none-any.whl (7.5 kB)\n",
      "Requirement already satisfied: MarkupSafe>=0.23 in /usr/local/lib/python3.8/dist-packages (from jinja2->libpysal->cenpy) (2.0.1)\n",
      "Building wheels for collected packages: cenpy\n",
      "  Building wheel for cenpy (setup.py) ... \u001b[?25l\u001b[?25hdone\n",
      "  Created wheel for cenpy: filename=cenpy-1.0.1-py3-none-any.whl size=30061 sha256=9002fac4fcedfff54347819224a5a8c5332abee5e810be32c46cc8196f8d1e4b\n",
      "  Stored in directory: /root/.cache/pip/wheels/ed/a3/b9/ec8f57828ca04f3e5035ad526fc7f4b22c61472e05d919b5af\n",
      "Successfully built cenpy\n",
      "Installing collected packages: fuzzywuzzy, rtree, pyproj, munch, click, cligj, click-plugins, libpysal, fiona, geopandas, cenpy\n",
      "  Attempting uninstall: click\n",
      "    Found existing installation: click 7.1.2\n",
      "    Uninstalling click-7.1.2:\n",
      "      Successfully uninstalled click-7.1.2\n",
      "\u001b[31mERROR: pip's dependency resolver does not currently take into account all the packages that are installed. This behaviour is the source of the following dependency conflicts.\n",
      "flask 1.1.4 requires click<8.0,>=5.1, but you have click 8.1.3 which is incompatible.\u001b[0m\u001b[31m\n",
      "\u001b[0mSuccessfully installed cenpy-1.0.1 click-8.1.3 click-plugins-1.1.1 cligj-0.7.2 fiona-1.9.1 fuzzywuzzy-0.18.0 geopandas-0.12.2 libpysal-4.7.0 munch-2.5.1.dev12 pyproj-3.4.1 rtree-1.0.1\n",
      "Looking in indexes: https://pypi.org/simple, https://us-python.pkg.dev/colab-wheels/public/simple/\n",
      "Requirement already satisfied: cenpy in /usr/local/lib/python3.8/dist-packages (1.0.1)\n",
      "Requirement already satisfied: geopandas in /usr/local/lib/python3.8/dist-packages (from cenpy) (0.12.2)\n",
      "Requirement already satisfied: fuzzywuzzy in /usr/local/lib/python3.8/dist-packages (from cenpy) (0.18.0)\n",
      "Requirement already satisfied: numpy in /usr/local/lib/python3.8/dist-packages (from cenpy) (1.22.4)\n",
      "Requirement already satisfied: pandas in /usr/local/lib/python3.8/dist-packages (from cenpy) (1.3.5)\n",
      "Requirement already satisfied: libpysal in /usr/local/lib/python3.8/dist-packages (from cenpy) (4.7.0)\n",
      "Requirement already satisfied: six in /usr/local/lib/python3.8/dist-packages (from cenpy) (1.15.0)\n",
      "Requirement already satisfied: requests in /usr/local/lib/python3.8/dist-packages (from cenpy) (2.25.1)\n",
      "Requirement already satisfied: rtree in /usr/local/lib/python3.8/dist-packages (from cenpy) (1.0.1)\n",
      "Requirement already satisfied: packaging in /usr/local/lib/python3.8/dist-packages (from geopandas->cenpy) (23.0)\n",
      "Requirement already satisfied: pyproj>=2.6.1.post1 in /usr/local/lib/python3.8/dist-packages (from geopandas->cenpy) (3.4.1)\n",
      "Requirement already satisfied: fiona>=1.8 in /usr/local/lib/python3.8/dist-packages (from geopandas->cenpy) (1.9.1)\n",
      "Requirement already satisfied: shapely>=1.7 in /usr/local/lib/python3.8/dist-packages (from geopandas->cenpy) (2.0.1)\n",
      "Requirement already satisfied: pytz>=2017.3 in /usr/local/lib/python3.8/dist-packages (from pandas->cenpy) (2022.7.1)\n",
      "Requirement already satisfied: python-dateutil>=2.7.3 in /usr/local/lib/python3.8/dist-packages (from pandas->cenpy) (2.8.2)\n",
      "Requirement already satisfied: beautifulsoup4 in /usr/local/lib/python3.8/dist-packages (from libpysal->cenpy) (4.6.3)\n",
      "Requirement already satisfied: scipy>=0.11 in /usr/local/lib/python3.8/dist-packages (from libpysal->cenpy) (1.7.3)\n",
      "Requirement already satisfied: jinja2 in /usr/local/lib/python3.8/dist-packages (from libpysal->cenpy) (2.11.3)\n",
      "Requirement already satisfied: platformdirs in /usr/local/lib/python3.8/dist-packages (from libpysal->cenpy) (3.0.0)\n",
      "Requirement already satisfied: chardet<5,>=3.0.2 in /usr/local/lib/python3.8/dist-packages (from requests->cenpy) (4.0.0)\n",
      "Requirement already satisfied: idna<3,>=2.5 in /usr/local/lib/python3.8/dist-packages (from requests->cenpy) (2.10)\n",
      "Requirement already satisfied: urllib3<1.27,>=1.21.1 in /usr/local/lib/python3.8/dist-packages (from requests->cenpy) (1.24.3)\n",
      "Requirement already satisfied: certifi>=2017.4.17 in /usr/local/lib/python3.8/dist-packages (from requests->cenpy) (2022.12.7)\n",
      "Requirement already satisfied: munch>=2.3.2 in /usr/local/lib/python3.8/dist-packages (from fiona>=1.8->geopandas->cenpy) (2.5.1.dev12)\n",
      "Requirement already satisfied: setuptools in /usr/local/lib/python3.8/dist-packages (from fiona>=1.8->geopandas->cenpy) (57.4.0)\n",
      "Requirement already satisfied: cligj>=0.5 in /usr/local/lib/python3.8/dist-packages (from fiona>=1.8->geopandas->cenpy) (0.7.2)\n",
      "Requirement already satisfied: click-plugins>=1.0 in /usr/local/lib/python3.8/dist-packages (from fiona>=1.8->geopandas->cenpy) (1.1.1)\n",
      "Requirement already satisfied: attrs>=19.2.0 in /usr/local/lib/python3.8/dist-packages (from fiona>=1.8->geopandas->cenpy) (22.2.0)\n",
      "Requirement already satisfied: click~=8.0 in /usr/local/lib/python3.8/dist-packages (from fiona>=1.8->geopandas->cenpy) (8.1.3)\n",
      "Requirement already satisfied: MarkupSafe>=0.23 in /usr/local/lib/python3.8/dist-packages (from jinja2->libpysal->cenpy) (2.0.1)\n",
      "Looking in indexes: https://pypi.org/simple, https://us-python.pkg.dev/colab-wheels/public/simple/\n",
      "Collecting python-Levenshtein\n",
      "  Downloading python_Levenshtein-0.20.9-py3-none-any.whl (9.4 kB)\n",
      "Collecting Levenshtein==0.20.9\n",
      "  Downloading Levenshtein-0.20.9-cp38-cp38-manylinux_2_17_x86_64.manylinux2014_x86_64.whl (174 kB)\n",
      "\u001b[2K     \u001b[90m━━━━━━━━━━━━━━━━━━━━━━━━━━━━━━━━━━━━━━━\u001b[0m \u001b[32m174.0/174.0 KB\u001b[0m \u001b[31m1.7 MB/s\u001b[0m eta \u001b[36m0:00:00\u001b[0m\n",
      "\u001b[?25hCollecting rapidfuzz<3.0.0,>=2.3.0\n",
      "  Downloading rapidfuzz-2.13.7-cp38-cp38-manylinux_2_17_x86_64.manylinux2014_x86_64.whl (2.2 MB)\n",
      "\u001b[2K     \u001b[90m━━━━━━━━━━━━━━━━━━━━━━━━━━━━━━━━━━━━━━━━\u001b[0m \u001b[32m2.2/2.2 MB\u001b[0m \u001b[31m14.1 MB/s\u001b[0m eta \u001b[36m0:00:00\u001b[0m\n",
      "\u001b[?25hInstalling collected packages: rapidfuzz, Levenshtein, python-Levenshtein\n",
      "Successfully installed Levenshtein-0.20.9 python-Levenshtein-0.20.9 rapidfuzz-2.13.7\n",
      "Looking in indexes: https://pypi.org/simple, https://us-python.pkg.dev/colab-wheels/public/simple/\n",
      "Collecting contextily\n",
      "  Downloading contextily-1.3.0-py3-none-any.whl (16 kB)\n",
      "Requirement already satisfied: pillow in /usr/local/lib/python3.8/dist-packages (from contextily) (8.4.0)\n",
      "Requirement already satisfied: requests in /usr/local/lib/python3.8/dist-packages (from contextily) (2.25.1)\n",
      "Collecting xyzservices\n",
      "  Downloading xyzservices-2023.2.0-py3-none-any.whl (55 kB)\n",
      "\u001b[2K     \u001b[90m━━━━━━━━━━━━━━━━━━━━━━━━━━━━━━━━━━━━━━━━\u001b[0m \u001b[32m55.4/55.4 KB\u001b[0m \u001b[31m2.7 MB/s\u001b[0m eta \u001b[36m0:00:00\u001b[0m\n",
      "\u001b[?25hRequirement already satisfied: joblib in /usr/local/lib/python3.8/dist-packages (from contextily) (1.2.0)\n",
      "Collecting rasterio\n",
      "  Downloading rasterio-1.3.6-cp38-cp38-manylinux_2_17_x86_64.manylinux2014_x86_64.whl (20.1 MB)\n",
      "\u001b[2K     \u001b[90m━━━━━━━━━━━━━━━━━━━━━━━━━━━━━━━━━━━━━━━━\u001b[0m \u001b[32m20.1/20.1 MB\u001b[0m \u001b[31m50.0 MB/s\u001b[0m eta \u001b[36m0:00:00\u001b[0m\n",
      "\u001b[?25hCollecting mercantile\n",
      "  Downloading mercantile-1.2.1-py3-none-any.whl (14 kB)\n",
      "Requirement already satisfied: matplotlib in /usr/local/lib/python3.8/dist-packages (from contextily) (3.5.3)\n",
      "Requirement already satisfied: geopy in /usr/local/lib/python3.8/dist-packages (from contextily) (1.17.0)\n",
      "Requirement already satisfied: geographiclib<2,>=1.49 in /usr/local/lib/python3.8/dist-packages (from geopy->contextily) (1.52)\n",
      "Requirement already satisfied: pyparsing>=2.2.1 in /usr/local/lib/python3.8/dist-packages (from matplotlib->contextily) (3.0.9)\n",
      "Requirement already satisfied: packaging>=20.0 in /usr/local/lib/python3.8/dist-packages (from matplotlib->contextily) (23.0)\n",
      "Requirement already satisfied: python-dateutil>=2.7 in /usr/local/lib/python3.8/dist-packages (from matplotlib->contextily) (2.8.2)\n",
      "Requirement already satisfied: kiwisolver>=1.0.1 in /usr/local/lib/python3.8/dist-packages (from matplotlib->contextily) (1.4.4)\n",
      "Requirement already satisfied: numpy>=1.17 in /usr/local/lib/python3.8/dist-packages (from matplotlib->contextily) (1.22.4)\n",
      "Requirement already satisfied: cycler>=0.10 in /usr/local/lib/python3.8/dist-packages (from matplotlib->contextily) (0.11.0)\n",
      "Requirement already satisfied: fonttools>=4.22.0 in /usr/local/lib/python3.8/dist-packages (from matplotlib->contextily) (4.38.0)\n",
      "Requirement already satisfied: click>=3.0 in /usr/local/lib/python3.8/dist-packages (from mercantile->contextily) (8.1.3)\n",
      "Requirement already satisfied: certifi in /usr/local/lib/python3.8/dist-packages (from rasterio->contextily) (2022.12.7)\n",
      "Requirement already satisfied: click-plugins in /usr/local/lib/python3.8/dist-packages (from rasterio->contextily) (1.1.1)\n",
      "Collecting snuggs>=1.4.1\n",
      "  Downloading snuggs-1.4.7-py3-none-any.whl (5.4 kB)\n",
      "Collecting affine\n",
      "  Downloading affine-2.4.0-py3-none-any.whl (15 kB)\n",
      "Requirement already satisfied: setuptools in /usr/local/lib/python3.8/dist-packages (from rasterio->contextily) (57.4.0)\n",
      "Requirement already satisfied: attrs in /usr/local/lib/python3.8/dist-packages (from rasterio->contextily) (22.2.0)\n",
      "Requirement already satisfied: cligj>=0.5 in /usr/local/lib/python3.8/dist-packages (from rasterio->contextily) (0.7.2)\n",
      "Requirement already satisfied: idna<3,>=2.5 in /usr/local/lib/python3.8/dist-packages (from requests->contextily) (2.10)\n",
      "Requirement already satisfied: chardet<5,>=3.0.2 in /usr/local/lib/python3.8/dist-packages (from requests->contextily) (4.0.0)\n",
      "Requirement already satisfied: urllib3<1.27,>=1.21.1 in /usr/local/lib/python3.8/dist-packages (from requests->contextily) (1.24.3)\n",
      "Requirement already satisfied: six>=1.5 in /usr/local/lib/python3.8/dist-packages (from python-dateutil>=2.7->matplotlib->contextily) (1.15.0)\n",
      "Installing collected packages: xyzservices, snuggs, mercantile, affine, rasterio, contextily\n",
      "Successfully installed affine-2.4.0 contextily-1.3.0 mercantile-1.2.1 rasterio-1.3.6 snuggs-1.4.7 xyzservices-2023.2.0\n"
     ]
    }
   ],
   "source": [
    "# If you have these packages already you can comment this out, if not run this first!\n",
    "\n",
    "!pip install --pre cenpy\n",
    "!pip install cenpy\n",
    "!pip install python-Levenshtein\n",
    "!pip install contextily"
   ]
  },
  {
   "cell_type": "code",
   "execution_count": 33,
   "metadata": {
    "id": "BMiF31LBA0pD"
   },
   "outputs": [],
   "source": [
    "import contextily\n",
    "import geopandas\n",
    "import numpy as np\n",
    "import cenpy \n",
    "import matplotlib.pyplot as plt\n",
    "import matplotlib as mpl\n",
    "%matplotlib inline\n",
    "\n",
    "# the year selected here was 2017 but if you are looking at other years you can select another year\n",
    "acs = cenpy.products.ACS(2017)"
   ]
  },
  {
   "cell_type": "markdown",
   "metadata": {
    "id": "BgyCl2MyZta8"
   },
   "source": [
    "# Question 1: Geography and variable selection (20 pts)\n",
    "\n",
    "Choose a place of interest! Think of a county or region you would like to explore or a question about that county you would like to answer\n",
    "\n",
    "Choose some variables from the ACS website\n",
    "\n",
    "https://api.census.gov/data/2017/acs/acs5/variables.html\n",
    "\n",
    "**Note! Cenpy only works with variables starting with B and C and from years 2017-2019**\n",
    "\n",
    " "
   ]
  },
  {
   "cell_type": "code",
   "execution_count": 30,
   "metadata": {
    "colab": {
     "base_uri": "https://localhost:8080/"
    },
    "id": "5-dKYMrZZuYc",
    "outputId": "45a4a496-2992-4228-a87d-87adf8602fb6"
   },
   "outputs": [
    {
     "data": {
      "text/plain": [
       "['B25077_001E', 'C24040_001E']"
      ]
     },
     "execution_count": 30,
     "metadata": {},
     "output_type": "execute_result"
    }
   ],
   "source": [
    "# Follow the format as below when adding variables\n",
    "# You do not have to use the ones listed below they are just examples\n",
    "vars_to_download = {\n",
    "    \"B25077_001E\": \"median_house_value\",  # Median house value\n",
    "    \"C24040_001E\": \"Employment\",     # Total white population\n",
    "}\n",
    "vars_to_download_l = list(vars_to_download.keys())\n",
    "vars_to_download_l"
   ]
  },
  {
   "cell_type": "markdown",
   "metadata": {
    "id": "zGQHwc51csye"
   },
   "source": [
    "## Write in words what motivates your region and variables selection."
   ]
  },
  {
   "cell_type": "markdown",
   "metadata": {
    "id": "324aYbLGcwUr"
   },
   "source": [
    "# Question 2: Map of Variables\n",
    "\n",
    "For your selected region of interest display the colored maps with a legend and your variables of interest\n",
    "\n",
    "Below is a test of running the map with Berkeley, if the variables you selected exist for Berkeley it should exist in any other city you selected!\n",
    "\n",
    "Check out a list of MSA and CSAs here!\n",
    "\n",
    "https://en.wikipedia.org/wiki/Metropolitan_statistical_area\n",
    "\n",
    "https://en.wikipedia.org/wiki/Combined_statistical_area"
   ]
  },
  {
   "cell_type": "code",
   "execution_count": 31,
   "metadata": {
    "colab": {
     "base_uri": "https://localhost:8080/"
    },
    "id": "DdgCuEgTcZFt",
    "outputId": "de14b616-7854-40f6-a3d6-f8830f9aad08"
   },
   "outputs": [
    {
     "name": "stderr",
     "output_type": "stream",
     "text": [
      "/usr/local/lib/python3.8/dist-packages/cenpy/products.py:748: FutureWarning: The `op` parameter is deprecated and will be removed in a future release. Please use the `predicate` parameter instead.\n",
      "  return self._from_name(\n"
     ]
    }
   ],
   "source": [
    "# From the acs variable you can extract the MSA or CSA you wish to choose\n",
    "# Documentation for cenpy products http://cenpy-devs.github.io/cenpy/generated/cenpy.products.ACS.html\n",
    "\n",
    "# The year can be changed depending on the question you are trying to answer\n",
    "db = acs.from_msa(\"Berkeley, CA\",\n",
    "                  level=\"tract\",\n",
    "                  variables=vars_to_download_l\n",
    "                 )\n",
    " ## replace variables with vars_to_download_l from above"
   ]
  },
  {
   "cell_type": "code",
   "execution_count": 32,
   "metadata": {
    "colab": {
     "base_uri": "https://localhost:8080/",
     "height": 423
    },
    "id": "pLiodjQV7kN3",
    "outputId": "7baf1ae5-4b00-41c9-f600-7fe27638f91d"
   },
   "outputs": [
    {
     "data": {
      "text/html": [
       "\n",
       "  <div id=\"df-b5339898-4992-4fc1-8c08-35255b8f4f73\">\n",
       "    <div class=\"colab-df-container\">\n",
       "      <div>\n",
       "<style scoped>\n",
       "    .dataframe tbody tr th:only-of-type {\n",
       "        vertical-align: middle;\n",
       "    }\n",
       "\n",
       "    .dataframe tbody tr th {\n",
       "        vertical-align: top;\n",
       "    }\n",
       "\n",
       "    .dataframe thead th {\n",
       "        text-align: right;\n",
       "    }\n",
       "</style>\n",
       "<table border=\"1\" class=\"dataframe\">\n",
       "  <thead>\n",
       "    <tr style=\"text-align: right;\">\n",
       "      <th></th>\n",
       "      <th>GEOID</th>\n",
       "      <th>geometry</th>\n",
       "      <th>B25077_001E</th>\n",
       "      <th>C24040_001E</th>\n",
       "      <th>NAME</th>\n",
       "      <th>state</th>\n",
       "      <th>county</th>\n",
       "      <th>tract</th>\n",
       "    </tr>\n",
       "  </thead>\n",
       "  <tbody>\n",
       "    <tr>\n",
       "      <th>0</th>\n",
       "      <td>06029002806</td>\n",
       "      <td>POLYGON ((-13261748.200 4211815.660, -13261728...</td>\n",
       "      <td>233600.0</td>\n",
       "      <td>769.0</td>\n",
       "      <td>Census Tract 28.06, Kern County, California</td>\n",
       "      <td>06</td>\n",
       "      <td>029</td>\n",
       "      <td>002806</td>\n",
       "    </tr>\n",
       "    <tr>\n",
       "      <th>1</th>\n",
       "      <td>06029003123</td>\n",
       "      <td>POLYGON ((-13261283.220 4204472.580, -13261282...</td>\n",
       "      <td>261100.0</td>\n",
       "      <td>5957.0</td>\n",
       "      <td>Census Tract 31.23, Kern County, California</td>\n",
       "      <td>06</td>\n",
       "      <td>029</td>\n",
       "      <td>003123</td>\n",
       "    </tr>\n",
       "    <tr>\n",
       "      <th>2</th>\n",
       "      <td>06029001802</td>\n",
       "      <td>POLYGON ((-13257287.400 4212630.780, -13257287...</td>\n",
       "      <td>215100.0</td>\n",
       "      <td>1661.0</td>\n",
       "      <td>Census Tract 18.02, Kern County, California</td>\n",
       "      <td>06</td>\n",
       "      <td>029</td>\n",
       "      <td>001802</td>\n",
       "    </tr>\n",
       "    <tr>\n",
       "      <th>3</th>\n",
       "      <td>06029004301</td>\n",
       "      <td>POLYGON ((-13293865.990 4237938.730, -13293865...</td>\n",
       "      <td>159100.0</td>\n",
       "      <td>2103.0</td>\n",
       "      <td>Census Tract 43.01, Kern County, California</td>\n",
       "      <td>06</td>\n",
       "      <td>029</td>\n",
       "      <td>004301</td>\n",
       "    </tr>\n",
       "    <tr>\n",
       "      <th>4</th>\n",
       "      <td>06029003900</td>\n",
       "      <td>POLYGON ((-13283978.700 4236994.780, -13283975...</td>\n",
       "      <td>164000.0</td>\n",
       "      <td>242.0</td>\n",
       "      <td>Census Tract 39, Kern County, California</td>\n",
       "      <td>06</td>\n",
       "      <td>029</td>\n",
       "      <td>003900</td>\n",
       "    </tr>\n",
       "    <tr>\n",
       "      <th>...</th>\n",
       "      <td>...</td>\n",
       "      <td>...</td>\n",
       "      <td>...</td>\n",
       "      <td>...</td>\n",
       "      <td>...</td>\n",
       "      <td>...</td>\n",
       "      <td>...</td>\n",
       "      <td>...</td>\n",
       "    </tr>\n",
       "    <tr>\n",
       "      <th>146</th>\n",
       "      <td>06029003305</td>\n",
       "      <td>POLYGON ((-13250829.980 4139384.720, -13250756...</td>\n",
       "      <td>155900.0</td>\n",
       "      <td>937.0</td>\n",
       "      <td>Census Tract 33.05, Kern County, California</td>\n",
       "      <td>06</td>\n",
       "      <td>029</td>\n",
       "      <td>003305</td>\n",
       "    </tr>\n",
       "    <tr>\n",
       "      <th>147</th>\n",
       "      <td>06029000910</td>\n",
       "      <td>POLYGON ((-13243413.100 4220172.570, -13243410...</td>\n",
       "      <td>229900.0</td>\n",
       "      <td>3158.0</td>\n",
       "      <td>Census Tract 9.10, Kern County, California</td>\n",
       "      <td>06</td>\n",
       "      <td>029</td>\n",
       "      <td>000910</td>\n",
       "    </tr>\n",
       "    <tr>\n",
       "      <th>148</th>\n",
       "      <td>06029005900</td>\n",
       "      <td>POLYGON ((-13159751.940 4167231.210, -13159722...</td>\n",
       "      <td>84600.0</td>\n",
       "      <td>838.0</td>\n",
       "      <td>Census Tract 59, Kern County, California</td>\n",
       "      <td>06</td>\n",
       "      <td>029</td>\n",
       "      <td>005900</td>\n",
       "    </tr>\n",
       "    <tr>\n",
       "      <th>149</th>\n",
       "      <td>06029000903</td>\n",
       "      <td>POLYGON ((-13243401.630 4218038.570, -13243185...</td>\n",
       "      <td>192700.0</td>\n",
       "      <td>1076.0</td>\n",
       "      <td>Census Tract 9.03, Kern County, California</td>\n",
       "      <td>06</td>\n",
       "      <td>029</td>\n",
       "      <td>000903</td>\n",
       "    </tr>\n",
       "    <tr>\n",
       "      <th>150</th>\n",
       "      <td>06029005501</td>\n",
       "      <td>POLYGON ((-13138171.650 4234231.940, -13138161...</td>\n",
       "      <td>174600.0</td>\n",
       "      <td>1448.0</td>\n",
       "      <td>Census Tract 55.01, Kern County, California</td>\n",
       "      <td>06</td>\n",
       "      <td>029</td>\n",
       "      <td>005501</td>\n",
       "    </tr>\n",
       "  </tbody>\n",
       "</table>\n",
       "<p>151 rows × 8 columns</p>\n",
       "</div>\n",
       "      <button class=\"colab-df-convert\" onclick=\"convertToInteractive('df-b5339898-4992-4fc1-8c08-35255b8f4f73')\"\n",
       "              title=\"Convert this dataframe to an interactive table.\"\n",
       "              style=\"display:none;\">\n",
       "        \n",
       "  <svg xmlns=\"http://www.w3.org/2000/svg\" height=\"24px\"viewBox=\"0 0 24 24\"\n",
       "       width=\"24px\">\n",
       "    <path d=\"M0 0h24v24H0V0z\" fill=\"none\"/>\n",
       "    <path d=\"M18.56 5.44l.94 2.06.94-2.06 2.06-.94-2.06-.94-.94-2.06-.94 2.06-2.06.94zm-11 1L8.5 8.5l.94-2.06 2.06-.94-2.06-.94L8.5 2.5l-.94 2.06-2.06.94zm10 10l.94 2.06.94-2.06 2.06-.94-2.06-.94-.94-2.06-.94 2.06-2.06.94z\"/><path d=\"M17.41 7.96l-1.37-1.37c-.4-.4-.92-.59-1.43-.59-.52 0-1.04.2-1.43.59L10.3 9.45l-7.72 7.72c-.78.78-.78 2.05 0 2.83L4 21.41c.39.39.9.59 1.41.59.51 0 1.02-.2 1.41-.59l7.78-7.78 2.81-2.81c.8-.78.8-2.07 0-2.86zM5.41 20L4 18.59l7.72-7.72 1.47 1.35L5.41 20z\"/>\n",
       "  </svg>\n",
       "      </button>\n",
       "      \n",
       "  <style>\n",
       "    .colab-df-container {\n",
       "      display:flex;\n",
       "      flex-wrap:wrap;\n",
       "      gap: 12px;\n",
       "    }\n",
       "\n",
       "    .colab-df-convert {\n",
       "      background-color: #E8F0FE;\n",
       "      border: none;\n",
       "      border-radius: 50%;\n",
       "      cursor: pointer;\n",
       "      display: none;\n",
       "      fill: #1967D2;\n",
       "      height: 32px;\n",
       "      padding: 0 0 0 0;\n",
       "      width: 32px;\n",
       "    }\n",
       "\n",
       "    .colab-df-convert:hover {\n",
       "      background-color: #E2EBFA;\n",
       "      box-shadow: 0px 1px 2px rgba(60, 64, 67, 0.3), 0px 1px 3px 1px rgba(60, 64, 67, 0.15);\n",
       "      fill: #174EA6;\n",
       "    }\n",
       "\n",
       "    [theme=dark] .colab-df-convert {\n",
       "      background-color: #3B4455;\n",
       "      fill: #D2E3FC;\n",
       "    }\n",
       "\n",
       "    [theme=dark] .colab-df-convert:hover {\n",
       "      background-color: #434B5C;\n",
       "      box-shadow: 0px 1px 3px 1px rgba(0, 0, 0, 0.15);\n",
       "      filter: drop-shadow(0px 1px 2px rgba(0, 0, 0, 0.3));\n",
       "      fill: #FFFFFF;\n",
       "    }\n",
       "  </style>\n",
       "\n",
       "      <script>\n",
       "        const buttonEl =\n",
       "          document.querySelector('#df-b5339898-4992-4fc1-8c08-35255b8f4f73 button.colab-df-convert');\n",
       "        buttonEl.style.display =\n",
       "          google.colab.kernel.accessAllowed ? 'block' : 'none';\n",
       "\n",
       "        async function convertToInteractive(key) {\n",
       "          const element = document.querySelector('#df-b5339898-4992-4fc1-8c08-35255b8f4f73');\n",
       "          const dataTable =\n",
       "            await google.colab.kernel.invokeFunction('convertToInteractive',\n",
       "                                                     [key], {});\n",
       "          if (!dataTable) return;\n",
       "\n",
       "          const docLinkHtml = 'Like what you see? Visit the ' +\n",
       "            '<a target=\"_blank\" href=https://colab.research.google.com/notebooks/data_table.ipynb>data table notebook</a>'\n",
       "            + ' to learn more about interactive tables.';\n",
       "          element.innerHTML = '';\n",
       "          dataTable['output_type'] = 'display_data';\n",
       "          await google.colab.output.renderOutput(dataTable, element);\n",
       "          const docLink = document.createElement('div');\n",
       "          docLink.innerHTML = docLinkHtml;\n",
       "          element.appendChild(docLink);\n",
       "        }\n",
       "      </script>\n",
       "    </div>\n",
       "  </div>\n",
       "  "
      ],
      "text/plain": [
       "           GEOID                                           geometry  \\\n",
       "0    06029002806  POLYGON ((-13261748.200 4211815.660, -13261728...   \n",
       "1    06029003123  POLYGON ((-13261283.220 4204472.580, -13261282...   \n",
       "2    06029001802  POLYGON ((-13257287.400 4212630.780, -13257287...   \n",
       "3    06029004301  POLYGON ((-13293865.990 4237938.730, -13293865...   \n",
       "4    06029003900  POLYGON ((-13283978.700 4236994.780, -13283975...   \n",
       "..           ...                                                ...   \n",
       "146  06029003305  POLYGON ((-13250829.980 4139384.720, -13250756...   \n",
       "147  06029000910  POLYGON ((-13243413.100 4220172.570, -13243410...   \n",
       "148  06029005900  POLYGON ((-13159751.940 4167231.210, -13159722...   \n",
       "149  06029000903  POLYGON ((-13243401.630 4218038.570, -13243185...   \n",
       "150  06029005501  POLYGON ((-13138171.650 4234231.940, -13138161...   \n",
       "\n",
       "     B25077_001E  C24040_001E                                         NAME  \\\n",
       "0       233600.0        769.0  Census Tract 28.06, Kern County, California   \n",
       "1       261100.0       5957.0  Census Tract 31.23, Kern County, California   \n",
       "2       215100.0       1661.0  Census Tract 18.02, Kern County, California   \n",
       "3       159100.0       2103.0  Census Tract 43.01, Kern County, California   \n",
       "4       164000.0        242.0     Census Tract 39, Kern County, California   \n",
       "..           ...          ...                                          ...   \n",
       "146     155900.0        937.0  Census Tract 33.05, Kern County, California   \n",
       "147     229900.0       3158.0   Census Tract 9.10, Kern County, California   \n",
       "148      84600.0        838.0     Census Tract 59, Kern County, California   \n",
       "149     192700.0       1076.0   Census Tract 9.03, Kern County, California   \n",
       "150     174600.0       1448.0  Census Tract 55.01, Kern County, California   \n",
       "\n",
       "    state county   tract  \n",
       "0      06    029  002806  \n",
       "1      06    029  003123  \n",
       "2      06    029  001802  \n",
       "3      06    029  004301  \n",
       "4      06    029  003900  \n",
       "..    ...    ...     ...  \n",
       "146    06    029  003305  \n",
       "147    06    029  000910  \n",
       "148    06    029  005900  \n",
       "149    06    029  000903  \n",
       "150    06    029  005501  \n",
       "\n",
       "[151 rows x 8 columns]"
      ]
     },
     "execution_count": 32,
     "metadata": {},
     "output_type": "execute_result"
    }
   ],
   "source": [
    "db"
   ]
  },
  {
   "cell_type": "code",
   "execution_count": 34,
   "metadata": {
    "colab": {
     "base_uri": "https://localhost:8080/",
     "height": 1000
    },
    "id": "Sm6jKkQzdEFO",
    "outputId": "ca127b1e-3191-430c-b2db-e010a1e4e55d"
   },
   "outputs": [
    {
     "data": {
      "image/png": "[encoded data removed]",
      "text/plain": [
       "<Figure size 1440x1440 with 2 Axes>"
      ]
     },
     "metadata": {
      "needs_background": "light"
     },
     "output_type": "display_data"
    }
   ],
   "source": [
    "# Remember to pick ONE variable of interest when plotting\n",
    "\n",
    "f, ax = plt.subplots(1,1,figsize=(20,20))\n",
    "db.dropna(subset=['B25077_001E'], axis=0).plot('B25077_001E', ax=ax, cmap='plasma',legend=True)\n",
    "ax.set_facecolor('k')"
   ]
  },
  {
   "cell_type": "code",
   "execution_count": null,
   "metadata": {
    "id": "dmj2dEEmeTxy"
   },
   "outputs": [],
   "source": []
  },
  {
   "cell_type": "markdown",
   "metadata": {
    "id": "ZG7Gku_wRVlZ"
   },
   "source": [
    "# Question 3: Data exploration\n",
    "\n",
    "Most of the methods can be found from the sandiego_tracts_calculations notebook!"
   ]
  },
  {
   "cell_type": "markdown",
   "metadata": {
    "id": "eRrJpaXjRYxs"
   },
   "source": [
    "## Question 3a: How many census tracts does your data have"
   ]
  },
  {
   "cell_type": "code",
   "execution_count": null,
   "metadata": {
    "id": "Pk3IzC7JRZ3F"
   },
   "outputs": [],
   "source": []
  },
  {
   "cell_type": "markdown",
   "metadata": {
    "id": "j9CsxfetRY3K"
   },
   "source": [
    "## Question 3b:  What is the Total Population in the data?"
   ]
  },
  {
   "cell_type": "code",
   "execution_count": null,
   "metadata": {
    "id": "qj7h8IqPRaLe"
   },
   "outputs": [],
   "source": []
  },
  {
   "cell_type": "markdown",
   "metadata": {
    "id": "wDlx4YOPRY92"
   },
   "source": [
    "## Question 3c: Calculate percentages based on your variables of interest"
   ]
  },
  {
   "cell_type": "code",
   "execution_count": null,
   "metadata": {
    "id": "K2jS1g3QRxHJ"
   },
   "outputs": [],
   "source": []
  },
  {
   "cell_type": "markdown",
   "metadata": {
    "id": "7IiZodOTRZLQ"
   },
   "source": [
    "## Question 3d: What is the total area in square kilometers?"
   ]
  },
  {
   "cell_type": "code",
   "execution_count": null,
   "metadata": {
    "id": "vchTJXuaRXeJ"
   },
   "outputs": [],
   "source": []
  },
  {
   "cell_type": "markdown",
   "metadata": {
    "id": "cYoLifA2TzyX"
   },
   "source": [
    "# Question 4: Variables Creation\n",
    "\n",
    "Most of the methods can be found from the sandiego_tracts_calculations notebook!"
   ]
  },
  {
   "cell_type": "code",
   "execution_count": null,
   "metadata": {
    "id": "gAT54LKdT5gF"
   },
   "outputs": [],
   "source": []
  },
  {
   "cell_type": "markdown",
   "metadata": {
    "id": "52O_vFMIT6A5"
   },
   "source": [
    "## 4a) If you have population groups. Calculate and plot the probability density function of the ratio of each group to total population. \n"
   ]
  },
  {
   "cell_type": "code",
   "execution_count": null,
   "metadata": {
    "id": "UJTp0_hCUBlD"
   },
   "outputs": [],
   "source": []
  },
  {
   "cell_type": "markdown",
   "metadata": {
    "id": "TB9LHidST6JU"
   },
   "source": [
    "## 4b) If you have household groups calculate fraction of households with respect to total number of households\n"
   ]
  },
  {
   "cell_type": "code",
   "execution_count": null,
   "metadata": {
    "id": "MvazBDBNVPna"
   },
   "outputs": [],
   "source": []
  },
  {
   "cell_type": "markdown",
   "metadata": {
    "id": "uGlJgA_BVPMn"
   },
   "source": [
    "# Question 5: Summary Statistics \n",
    "\n",
    "Summarize the statistics of your variables with describe()\n",
    "\n",
    "Documentation: https://pandas.pydata.org/docs/reference/api/pandas.DataFrame.describe.html"
   ]
  },
  {
   "cell_type": "code",
   "execution_count": null,
   "metadata": {
    "id": "vqD-XBNhVfxU"
   },
   "outputs": [],
   "source": []
  },
  {
   "cell_type": "markdown",
   "metadata": {
    "id": "QAaWF3PdVhod"
   },
   "source": [
    "# Question 6: Summary Statistics\n",
    "\n",
    "Use the function grid = seaborn.PairGrid() to summarize the statistics of the variable of interests. \n",
    "\n",
    "Documentation: https://seaborn.pydata.org/generated/seaborn.PairGrid.html"
   ]
  },
  {
   "cell_type": "code",
   "execution_count": null,
   "metadata": {
    "id": "hYSkCDK2V5Nk"
   },
   "outputs": [],
   "source": []
  },
  {
   "cell_type": "markdown",
   "metadata": {
    "id": "MaQGX6ySV51q"
   },
   "source": [
    "# Question 7: Data Interpretation (10 pts)\n",
    "Based on the results of the previous questions, summarize what can you learn from the data. Is there any result that you would like to obtain from the clustering method?"
   ]
  },
  {
   "cell_type": "code",
   "execution_count": null,
   "metadata": {
    "id": "RFqOFZjyV-LL"
   },
   "outputs": [],
   "source": []
  }
 ],
 "metadata": {
  "colab": {
   "provenance": []
  },
  "kernelspec": {
   "display_name": "Python 3 (ipykernel)",
   "language": "python",
   "name": "python3"
  },
  "language_info": {
   "codemirror_mode": {
    "name": "ipython",
    "version": 3
   },
   "file_extension": ".py",
   "mimetype": "text/x-python",
   "name": "python",
   "nbconvert_exporter": "python",
   "pygments_lexer": "ipython3",
   "version": "3.9.13"
  }
 },
 "nbformat": 4,
 "nbformat_minor": 1
}
